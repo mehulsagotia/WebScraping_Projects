{
 "cells": [
  {
   "cell_type": "markdown",
   "id": "9a5a67f1",
   "metadata": {},
   "source": [
    "# Scraping AQI Data of all States"
   ]
  },
  {
   "cell_type": "code",
   "execution_count": 1,
   "id": "0aaa7ffc",
   "metadata": {},
   "outputs": [],
   "source": [
    "from bs4 import BeautifulSoup\n",
    "import requests\n",
    "import pandas as pd"
   ]
  },
  {
   "cell_type": "code",
   "execution_count": 2,
   "id": "df0e68b8",
   "metadata": {},
   "outputs": [],
   "source": [
    "# Step 1: Getting page content\n",
    "path = \"https://www.aqi.in/in/dashboard/india\"\n",
    "page = requests.get(path)\n",
    "soup = BeautifulSoup(page.text, 'html.parser') "
   ]
  },
  {
   "cell_type": "code",
   "execution_count": 3,
   "id": "df19b1e6",
   "metadata": {},
   "outputs": [],
   "source": [
    "# Step 2: Extracting column headers\n",
    "headers = []\n",
    "for i in range(1, 8):\n",
    "    element = soup.find(\"div\", attrs={\"data-column-id\": str(i), \"role\": \"columnheader\"})\n",
    "    if element:\n",
    "        headers.append(element.text.strip())"
   ]
  },
  {
   "cell_type": "code",
   "execution_count": 9,
   "id": "9897c8d2",
   "metadata": {},
   "outputs": [
    {
     "name": "stdout",
     "output_type": "stream",
     "text": [
      "['Location', 'Status', 'AQI', 'PM2.5(µg/m³)', 'PM10(µg/m³)', 'Temp.(°C)', 'Humi.(%)']\n"
     ]
    }
   ],
   "source": [
    "print(headers)"
   ]
  },
  {
   "cell_type": "code",
   "execution_count": 4,
   "id": "4bfec7fb",
   "metadata": {},
   "outputs": [],
   "source": [
    "# Step 3: Extracting all data rows\n",
    "table_rows = soup.find_all(\"div\", role=\"row\")[1:]  # skip header row\n",
    "data = []\n",
    "for row in table_rows:\n",
    "    cells = row.find_all('div', role='cell')\n",
    "    row_data = [cell.text.strip() for cell in cells]\n",
    "    if row_data:\n",
    "        data.append(row_data)"
   ]
  },
  {
   "cell_type": "code",
   "execution_count": 7,
   "id": "ce318bc1",
   "metadata": {},
   "outputs": [
    {
     "data": {
      "text/plain": [
       "[['Andhra Pradesh', 'Moderate', '66', '17', '46', '28', '64'],\n",
       " ['Arunachal Pradesh', 'Good', '50', '10', '22', '24', '84'],\n",
       " ['Assam', 'Moderate', '57', '12', '30', '28', '76'],\n",
       " ['Bihar', 'Moderate', '70', '20', '48', '29', '82'],\n",
       " ['Chandigarh', 'Moderate', '86', '28', '62', '29', '81'],\n",
       " ['Chhattisgarh', 'Moderate', '56', '12', '31', '25', '83'],\n",
       " ['Dadra And Nagar Haveli', 'Moderate', '83', '26', '88', '27', '86'],\n",
       " ['Daman And Diu', 'Moderate', '85', '27', '94', '26', '79'],\n",
       " ['Delhi', 'Moderate', '93', '31', '77', '31', '70'],\n",
       " ['Goa', 'Moderate', '72', '20', '50', '27', '63'],\n",
       " ['Gujarat', 'Moderate', '82', '26', '64', '28', '78'],\n",
       " ['Haryana', 'Moderate', '92', '31', '69', '29', '71'],\n",
       " ['Himachal Pradesh', 'Moderate', '79', '24', '63', '24', '48'],\n",
       " ['Jammu And Kashmir', 'Moderate', '73', '29', '70', '25', '49'],\n",
       " ['Jharkhand', 'Moderate', '65', '17', '44', '27', '84'],\n",
       " ['Karnataka', 'Moderate', '62', '15', '40', '25', '72'],\n",
       " ['Kerala', 'Moderate', '69', '18', '49', '29', '77'],\n",
       " ['Madhya Pradesh', 'Moderate', '69', '19', '50', '27', '83'],\n",
       " ['Maharashtra', 'Moderate', '76', '23', '58', '27', '78'],\n",
       " ['Manipur', 'Good', '36', '7', '19', '24', '75'],\n",
       " ['Meghalaya', 'Good', '39', '7', '19', '22', '81'],\n",
       " ['Mizoram', 'Good', '25', '4', '13', '26', '83'],\n",
       " ['Nagaland', 'Good', '42', '8', '24', '20', '87'],\n",
       " ['Odisha', 'Moderate', '64', '16', '42', '28', '84'],\n",
       " ['Puducherry', 'Moderate', '62', '15', '45', '31', '65'],\n",
       " ['Punjab', 'Moderate', '91', '30', '63', '27', '76'],\n",
       " ['Rajasthan', 'Moderate', '88', '29', '63', '28', '79'],\n",
       " ['Sikkim', 'Moderate', '59', '14', '43', '24', '68'],\n",
       " ['Tamil Nadu', 'Moderate', '70', '20', '48', '29', '69'],\n",
       " ['Telangana', 'Moderate', '73', '21', '51', '27', '72'],\n",
       " ['Tripura', 'Moderate', '63', '16', '30', '21', '80'],\n",
       " ['Uttar Pradesh', 'Moderate', '78', '23', '58', '30', '75'],\n",
       " ['Uttarakhand', 'Moderate', '66', '17', '48', '27', '62'],\n",
       " ['West Bengal', 'Moderate', '69', '19', '46', '29', '85']]"
      ]
     },
     "execution_count": 7,
     "metadata": {},
     "output_type": "execute_result"
    }
   ],
   "source": [
    "data"
   ]
  },
  {
   "cell_type": "code",
   "execution_count": null,
   "id": "52524ee0",
   "metadata": {},
   "outputs": [],
   "source": [
    "# Step 4: Creating DataFrame\n",
    "df = pd.DataFrame(data, columns=headers)"
   ]
  },
  {
   "cell_type": "code",
   "execution_count": null,
   "id": "d6841393",
   "metadata": {},
   "outputs": [],
   "source": [
    "# Step 5: Exporting to CSV\n",
    "df.to_csv(\"/Users/mehul/Documents/data scicence/projects/AirPollution/Data/india_aqi_data.csv\", index=False)\n",
    "print(\"✅ Data exported to 'india_aqi_data.csv'\")"
   ]
  }
 ],
 "metadata": {
  "kernelspec": {
   "display_name": "Python 3 (ipykernel)",
   "language": "python",
   "name": "python3"
  },
  "language_info": {
   "codemirror_mode": {
    "name": "ipython",
    "version": 3
   },
   "file_extension": ".py",
   "mimetype": "text/x-python",
   "name": "python",
   "nbconvert_exporter": "python",
   "pygments_lexer": "ipython3",
   "version": "3.10.13"
  }
 },
 "nbformat": 4,
 "nbformat_minor": 5
}
